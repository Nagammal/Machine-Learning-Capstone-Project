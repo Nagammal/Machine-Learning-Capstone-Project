{
 "cells": [
  {
   "cell_type": "code",
   "execution_count": 1,
   "id": "ce9f104c",
   "metadata": {},
   "outputs": [],
   "source": [
    "from Univariate import Univariate\n",
    "import pandas as pd\n",
    "preprocessed_dataset=pd.read_csv(\"../Datasets/Clustering/Bank Customer Segmentation/preprocessed_dataset.csv\")"
   ]
  },
  {
   "cell_type": "code",
   "execution_count": 2,
   "id": "e96ee587",
   "metadata": {},
   "outputs": [],
   "source": [
    "quan,qual=Univariate.quan_qual(preprocessed_dataset)"
   ]
  },
  {
   "cell_type": "code",
   "execution_count": 3,
   "id": "9f39d231",
   "metadata": {},
   "outputs": [
    {
     "data": {
      "text/plain": [
       "['CustAccountBalance', 'TransactionAmount (INR)', 'Hour', 'Minute', 'Age']"
      ]
     },
     "execution_count": 3,
     "metadata": {},
     "output_type": "execute_result"
    }
   ],
   "source": [
    "quan"
   ]
  },
  {
   "cell_type": "code",
   "execution_count": 4,
   "id": "8c75fa3a",
   "metadata": {},
   "outputs": [
    {
     "data": {
      "text/plain": [
       "['CustomerDOB',\n",
       " 'CustGender',\n",
       " 'CustLocation',\n",
       " 'TransactionDate',\n",
       " 'TransactionTime',\n",
       " 'TimePeriod',\n",
       " 'HourMinute']"
      ]
     },
     "execution_count": 4,
     "metadata": {},
     "output_type": "execute_result"
    }
   ],
   "source": [
    "qual"
   ]
  },
  {
   "cell_type": "markdown",
   "id": "2af8a91d",
   "metadata": {},
   "source": [
    "### Measures of Central Tendency"
   ]
  },
  {
   "cell_type": "code",
   "execution_count": 5,
   "id": "7ddce21d",
   "metadata": {},
   "outputs": [],
   "source": [
    "descriptive_analysis_table=pd.DataFrame()"
   ]
  },
  {
   "cell_type": "code",
   "execution_count": 6,
   "id": "561c84b7",
   "metadata": {},
   "outputs": [
    {
     "data": {
      "text/html": [
       "<div>\n",
       "<style scoped>\n",
       "    .dataframe tbody tr th:only-of-type {\n",
       "        vertical-align: middle;\n",
       "    }\n",
       "\n",
       "    .dataframe tbody tr th {\n",
       "        vertical-align: top;\n",
       "    }\n",
       "\n",
       "    .dataframe thead th {\n",
       "        text-align: right;\n",
       "    }\n",
       "</style>\n",
       "<table border=\"1\" class=\"dataframe\">\n",
       "  <thead>\n",
       "    <tr style=\"text-align: right;\">\n",
       "      <th></th>\n",
       "      <th>CustAccountBalance</th>\n",
       "      <th>TransactionAmount (INR)</th>\n",
       "      <th>Hour</th>\n",
       "      <th>Minute</th>\n",
       "      <th>Age</th>\n",
       "    </tr>\n",
       "  </thead>\n",
       "  <tbody>\n",
       "    <tr>\n",
       "      <th>Mean</th>\n",
       "      <td>79061.1</td>\n",
       "      <td>1290.27</td>\n",
       "      <td>10.4375</td>\n",
       "      <td>29.1234</td>\n",
       "      <td>37.3111</td>\n",
       "    </tr>\n",
       "    <tr>\n",
       "      <th>Median</th>\n",
       "      <td>14842.5</td>\n",
       "      <td>398</td>\n",
       "      <td>10</td>\n",
       "      <td>29</td>\n",
       "      <td>37</td>\n",
       "    </tr>\n",
       "    <tr>\n",
       "      <th>Mode</th>\n",
       "      <td>115537</td>\n",
       "      <td>100</td>\n",
       "      <td>10</td>\n",
       "      <td>20</td>\n",
       "      <td>35</td>\n",
       "    </tr>\n",
       "    <tr>\n",
       "      <th>Q1:25th</th>\n",
       "      <td>4181.37</td>\n",
       "      <td>146</td>\n",
       "      <td>5</td>\n",
       "      <td>14</td>\n",
       "      <td>33</td>\n",
       "    </tr>\n",
       "    <tr>\n",
       "      <th>Q2:50th</th>\n",
       "      <td>14842.5</td>\n",
       "      <td>398</td>\n",
       "      <td>10</td>\n",
       "      <td>29</td>\n",
       "      <td>37</td>\n",
       "    </tr>\n",
       "    <tr>\n",
       "      <th>Q3:75th</th>\n",
       "      <td>47929.8</td>\n",
       "      <td>1007</td>\n",
       "      <td>15</td>\n",
       "      <td>44</td>\n",
       "      <td>41</td>\n",
       "    </tr>\n",
       "    <tr>\n",
       "      <th>Q:99th</th>\n",
       "      <td>1.08432e+06</td>\n",
       "      <td>15418.7</td>\n",
       "      <td>23</td>\n",
       "      <td>58</td>\n",
       "      <td>49</td>\n",
       "    </tr>\n",
       "    <tr>\n",
       "      <th>Q4:100th</th>\n",
       "      <td>2.79796e+07</td>\n",
       "      <td>1.56003e+06</td>\n",
       "      <td>23</td>\n",
       "      <td>59</td>\n",
       "      <td>50</td>\n",
       "    </tr>\n",
       "    <tr>\n",
       "      <th>skewness</th>\n",
       "      <td>24.5017</td>\n",
       "      <td>85.6969</td>\n",
       "      <td>0.253728</td>\n",
       "      <td>0.00559909</td>\n",
       "      <td>0.407808</td>\n",
       "    </tr>\n",
       "    <tr>\n",
       "      <th>kurtosis</th>\n",
       "      <td>1043.52</td>\n",
       "      <td>17637.9</td>\n",
       "      <td>-0.92626</td>\n",
       "      <td>-1.19774</td>\n",
       "      <td>-0.291623</td>\n",
       "    </tr>\n",
       "    <tr>\n",
       "      <th>variance</th>\n",
       "      <td>1.29759e+11</td>\n",
       "      <td>3.20802e+07</td>\n",
       "      <td>41.7952</td>\n",
       "      <td>299.622</td>\n",
       "      <td>26.8742</td>\n",
       "    </tr>\n",
       "    <tr>\n",
       "      <th>std_deviation</th>\n",
       "      <td>360220</td>\n",
       "      <td>5663.94</td>\n",
       "      <td>6.46492</td>\n",
       "      <td>17.3096</td>\n",
       "      <td>5.18403</td>\n",
       "    </tr>\n",
       "  </tbody>\n",
       "</table>\n",
       "</div>"
      ],
      "text/plain": [
       "              CustAccountBalance TransactionAmount (INR)      Hour  \\\n",
       "Mean                     79061.1                 1290.27   10.4375   \n",
       "Median                   14842.5                     398        10   \n",
       "Mode                      115537                     100        10   \n",
       "Q1:25th                  4181.37                     146         5   \n",
       "Q2:50th                  14842.5                     398        10   \n",
       "Q3:75th                  47929.8                    1007        15   \n",
       "Q:99th               1.08432e+06                 15418.7        23   \n",
       "Q4:100th             2.79796e+07             1.56003e+06        23   \n",
       "skewness                 24.5017                 85.6969  0.253728   \n",
       "kurtosis                 1043.52                 17637.9  -0.92626   \n",
       "variance             1.29759e+11             3.20802e+07   41.7952   \n",
       "std_deviation             360220                 5663.94   6.46492   \n",
       "\n",
       "                   Minute       Age  \n",
       "Mean              29.1234   37.3111  \n",
       "Median                 29        37  \n",
       "Mode                   20        35  \n",
       "Q1:25th                14        33  \n",
       "Q2:50th                29        37  \n",
       "Q3:75th                44        41  \n",
       "Q:99th                 58        49  \n",
       "Q4:100th               59        50  \n",
       "skewness       0.00559909  0.407808  \n",
       "kurtosis         -1.19774 -0.291623  \n",
       "variance          299.622   26.8742  \n",
       "std_deviation     17.3096   5.18403  "
      ]
     },
     "execution_count": 6,
     "metadata": {},
     "output_type": "execute_result"
    }
   ],
   "source": [
    "from Univariate import Univariate\n",
    "Univariate.descriptive_analysis(preprocessed_dataset, quan)"
   ]
  },
  {
   "cell_type": "markdown",
   "id": "4664f429",
   "metadata": {},
   "source": [
    "### Interquartile Range"
   ]
  },
  {
   "cell_type": "code",
   "execution_count": 7,
   "id": "c8c5630a",
   "metadata": {},
   "outputs": [],
   "source": [
    "import numpy as np\n",
    "descriptive_analysis_table=pd.DataFrame(index=[\"Q1:25th\",\"Q2:50th\",\"Q3:75th\",\"Q4:100th\",\"IQR\",\"1.5rule\",\n",
    "                                               \"lesser_outlier\",\"greater_outlier\",\"min\",\"max\"],columns=quan)"
   ]
  },
  {
   "cell_type": "code",
   "execution_count": 8,
   "id": "01724c88",
   "metadata": {},
   "outputs": [],
   "source": [
    "for columnName in quan:\n",
    "    descriptive_analysis_table[columnName][\"Q1:25th\"]=preprocessed_dataset[columnName].quantile(0.25)\n",
    "    descriptive_analysis_table[columnName][\"Q2:50th\"]=preprocessed_dataset[columnName].quantile(0.50)\n",
    "    descriptive_analysis_table[columnName][\"Q3:75th\"]=preprocessed_dataset[columnName].quantile(0.75)\n",
    "    descriptive_analysis_table[columnName][\"Q4:100th\"]=preprocessed_dataset[columnName].max()\n",
    "    "
   ]
  },
  {
   "cell_type": "code",
   "execution_count": 9,
   "id": "b3947cff",
   "metadata": {},
   "outputs": [],
   "source": [
    "for columnName in quan:\n",
    "    descriptive_analysis_table[columnName][\"IQR\"]=descriptive_analysis_table[columnName][\"Q3:75th\"]-descriptive_analysis_table[columnName][\"Q1:25th\"]\n",
    "    descriptive_analysis_table[columnName][\"1.5rule\"]=1.5*descriptive_analysis_table[columnName][\"IQR\"]\n",
    "    descriptive_analysis_table[columnName][\"lesser_outlier\"]=descriptive_analysis_table[columnName][\"Q1:25th\"]-descriptive_analysis_table[columnName][\"1.5rule\"]\n",
    "    descriptive_analysis_table[columnName][\"greater_outlier\"]=  descriptive_analysis_table[columnName][\"Q3:75th\"]+descriptive_analysis_table[columnName][\"1.5rule\"]\n",
    "    descriptive_analysis_table[columnName][\"min\"]=preprocessed_dataset[columnName].min()\n",
    "    descriptive_analysis_table[columnName][\"max\"]=preprocessed_dataset[columnName].max()"
   ]
  },
  {
   "cell_type": "code",
   "execution_count": 10,
   "id": "38246355",
   "metadata": {},
   "outputs": [
    {
     "data": {
      "text/html": [
       "<div>\n",
       "<style scoped>\n",
       "    .dataframe tbody tr th:only-of-type {\n",
       "        vertical-align: middle;\n",
       "    }\n",
       "\n",
       "    .dataframe tbody tr th {\n",
       "        vertical-align: top;\n",
       "    }\n",
       "\n",
       "    .dataframe thead th {\n",
       "        text-align: right;\n",
       "    }\n",
       "</style>\n",
       "<table border=\"1\" class=\"dataframe\">\n",
       "  <thead>\n",
       "    <tr style=\"text-align: right;\">\n",
       "      <th></th>\n",
       "      <th>CustAccountBalance</th>\n",
       "      <th>TransactionAmount (INR)</th>\n",
       "      <th>Hour</th>\n",
       "      <th>Minute</th>\n",
       "      <th>Age</th>\n",
       "    </tr>\n",
       "  </thead>\n",
       "  <tbody>\n",
       "    <tr>\n",
       "      <th>Q1:25th</th>\n",
       "      <td>4181.37</td>\n",
       "      <td>146</td>\n",
       "      <td>5</td>\n",
       "      <td>14</td>\n",
       "      <td>33</td>\n",
       "    </tr>\n",
       "    <tr>\n",
       "      <th>Q2:50th</th>\n",
       "      <td>14842.5</td>\n",
       "      <td>398</td>\n",
       "      <td>10</td>\n",
       "      <td>29</td>\n",
       "      <td>37</td>\n",
       "    </tr>\n",
       "    <tr>\n",
       "      <th>Q3:75th</th>\n",
       "      <td>47929.8</td>\n",
       "      <td>1007</td>\n",
       "      <td>15</td>\n",
       "      <td>44</td>\n",
       "      <td>41</td>\n",
       "    </tr>\n",
       "    <tr>\n",
       "      <th>Q4:100th</th>\n",
       "      <td>2.79796e+07</td>\n",
       "      <td>1.56003e+06</td>\n",
       "      <td>23</td>\n",
       "      <td>59</td>\n",
       "      <td>50</td>\n",
       "    </tr>\n",
       "    <tr>\n",
       "      <th>IQR</th>\n",
       "      <td>43748.4</td>\n",
       "      <td>861</td>\n",
       "      <td>10</td>\n",
       "      <td>30</td>\n",
       "      <td>8</td>\n",
       "    </tr>\n",
       "    <tr>\n",
       "      <th>1.5rule</th>\n",
       "      <td>65622.6</td>\n",
       "      <td>1291.5</td>\n",
       "      <td>15</td>\n",
       "      <td>45</td>\n",
       "      <td>12</td>\n",
       "    </tr>\n",
       "    <tr>\n",
       "      <th>lesser_outlier</th>\n",
       "      <td>-61441.2</td>\n",
       "      <td>-1145.5</td>\n",
       "      <td>-10</td>\n",
       "      <td>-31</td>\n",
       "      <td>21</td>\n",
       "    </tr>\n",
       "    <tr>\n",
       "      <th>greater_outlier</th>\n",
       "      <td>113552</td>\n",
       "      <td>2298.5</td>\n",
       "      <td>30</td>\n",
       "      <td>89</td>\n",
       "      <td>53</td>\n",
       "    </tr>\n",
       "    <tr>\n",
       "      <th>min</th>\n",
       "      <td>0</td>\n",
       "      <td>0</td>\n",
       "      <td>0</td>\n",
       "      <td>0</td>\n",
       "      <td>0</td>\n",
       "    </tr>\n",
       "    <tr>\n",
       "      <th>max</th>\n",
       "      <td>2.79796e+07</td>\n",
       "      <td>1.56003e+06</td>\n",
       "      <td>23</td>\n",
       "      <td>59</td>\n",
       "      <td>50</td>\n",
       "    </tr>\n",
       "  </tbody>\n",
       "</table>\n",
       "</div>"
      ],
      "text/plain": [
       "                CustAccountBalance TransactionAmount (INR) Hour Minute Age\n",
       "Q1:25th                    4181.37                     146    5     14  33\n",
       "Q2:50th                    14842.5                     398   10     29  37\n",
       "Q3:75th                    47929.8                    1007   15     44  41\n",
       "Q4:100th               2.79796e+07             1.56003e+06   23     59  50\n",
       "IQR                        43748.4                     861   10     30   8\n",
       "1.5rule                    65622.6                  1291.5   15     45  12\n",
       "lesser_outlier            -61441.2                 -1145.5  -10    -31  21\n",
       "greater_outlier             113552                  2298.5   30     89  53\n",
       "min                              0                       0    0      0   0\n",
       "max                    2.79796e+07             1.56003e+06   23     59  50"
      ]
     },
     "execution_count": 10,
     "metadata": {},
     "output_type": "execute_result"
    }
   ],
   "source": [
    "descriptive_analysis_table"
   ]
  },
  {
   "cell_type": "markdown",
   "id": "9f107bd2",
   "metadata": {},
   "source": [
    "### Finding Outliers"
   ]
  },
  {
   "cell_type": "code",
   "execution_count": 11,
   "id": "bc0c2ade",
   "metadata": {},
   "outputs": [],
   "source": [
    "lesser_outlier_columns=[]\n",
    "greater_outlier_columns=[]\n",
    "for columnName in quan:\n",
    "    if descriptive_analysis_table[columnName][\"min\"]<descriptive_analysis_table[columnName][\"lesser_outlier\"]:\n",
    "        lesser_outlier_columns.append(columnName)\n",
    "    if descriptive_analysis_table[columnName][\"max\"]>descriptive_analysis_table[columnName][\"greater_outlier\"]:\n",
    "        greater_outlier_columns.append(columnName)"
   ]
  },
  {
   "cell_type": "code",
   "execution_count": 12,
   "id": "5e346307",
   "metadata": {},
   "outputs": [
    {
     "name": "stdout",
     "output_type": "stream",
     "text": [
      "lowrange_outlier_columns ['Age']\n",
      "highrangeoutlier_columns ['CustAccountBalance', 'TransactionAmount (INR)']\n"
     ]
    }
   ],
   "source": [
    "print(\"lowrange_outlier_columns\",lesser_outlier_columns)\n",
    "print(\"highrangeoutlier_columns\",greater_outlier_columns)"
   ]
  },
  {
   "cell_type": "markdown",
   "id": "bbeccb47",
   "metadata": {},
   "source": [
    "### Replacing Outliers"
   ]
  },
  {
   "cell_type": "code",
   "execution_count": 13,
   "id": "dd8b6619",
   "metadata": {},
   "outputs": [],
   "source": [
    "for columnName in lesser_outlier_columns:\n",
    "    descriptive_analysis_table[columnName][\"min\"]=descriptive_analysis_table[columnName][\"lesser_outlier\"]\n",
    "\n",
    "for columnName in greater_outlier_columns:\n",
    "    descriptive_analysis_table[columnName][\"max\"]=descriptive_analysis_table[columnName][\"greater_outlier\"]"
   ]
  },
  {
   "cell_type": "code",
   "execution_count": 14,
   "id": "b6e3bfa6",
   "metadata": {},
   "outputs": [
    {
     "data": {
      "text/html": [
       "<div>\n",
       "<style scoped>\n",
       "    .dataframe tbody tr th:only-of-type {\n",
       "        vertical-align: middle;\n",
       "    }\n",
       "\n",
       "    .dataframe tbody tr th {\n",
       "        vertical-align: top;\n",
       "    }\n",
       "\n",
       "    .dataframe thead th {\n",
       "        text-align: right;\n",
       "    }\n",
       "</style>\n",
       "<table border=\"1\" class=\"dataframe\">\n",
       "  <thead>\n",
       "    <tr style=\"text-align: right;\">\n",
       "      <th></th>\n",
       "      <th>CustAccountBalance</th>\n",
       "      <th>TransactionAmount (INR)</th>\n",
       "      <th>Hour</th>\n",
       "      <th>Minute</th>\n",
       "      <th>Age</th>\n",
       "    </tr>\n",
       "  </thead>\n",
       "  <tbody>\n",
       "    <tr>\n",
       "      <th>Q1:25th</th>\n",
       "      <td>4181.37</td>\n",
       "      <td>146</td>\n",
       "      <td>5</td>\n",
       "      <td>14</td>\n",
       "      <td>33</td>\n",
       "    </tr>\n",
       "    <tr>\n",
       "      <th>Q2:50th</th>\n",
       "      <td>14842.5</td>\n",
       "      <td>398</td>\n",
       "      <td>10</td>\n",
       "      <td>29</td>\n",
       "      <td>37</td>\n",
       "    </tr>\n",
       "    <tr>\n",
       "      <th>Q3:75th</th>\n",
       "      <td>47929.8</td>\n",
       "      <td>1007</td>\n",
       "      <td>15</td>\n",
       "      <td>44</td>\n",
       "      <td>41</td>\n",
       "    </tr>\n",
       "    <tr>\n",
       "      <th>Q4:100th</th>\n",
       "      <td>2.79796e+07</td>\n",
       "      <td>1.56003e+06</td>\n",
       "      <td>23</td>\n",
       "      <td>59</td>\n",
       "      <td>50</td>\n",
       "    </tr>\n",
       "    <tr>\n",
       "      <th>IQR</th>\n",
       "      <td>43748.4</td>\n",
       "      <td>861</td>\n",
       "      <td>10</td>\n",
       "      <td>30</td>\n",
       "      <td>8</td>\n",
       "    </tr>\n",
       "    <tr>\n",
       "      <th>1.5rule</th>\n",
       "      <td>65622.6</td>\n",
       "      <td>1291.5</td>\n",
       "      <td>15</td>\n",
       "      <td>45</td>\n",
       "      <td>12</td>\n",
       "    </tr>\n",
       "    <tr>\n",
       "      <th>lesser_outlier</th>\n",
       "      <td>-61441.2</td>\n",
       "      <td>-1145.5</td>\n",
       "      <td>-10</td>\n",
       "      <td>-31</td>\n",
       "      <td>21</td>\n",
       "    </tr>\n",
       "    <tr>\n",
       "      <th>greater_outlier</th>\n",
       "      <td>113552</td>\n",
       "      <td>2298.5</td>\n",
       "      <td>30</td>\n",
       "      <td>89</td>\n",
       "      <td>53</td>\n",
       "    </tr>\n",
       "    <tr>\n",
       "      <th>min</th>\n",
       "      <td>0</td>\n",
       "      <td>0</td>\n",
       "      <td>0</td>\n",
       "      <td>0</td>\n",
       "      <td>21</td>\n",
       "    </tr>\n",
       "    <tr>\n",
       "      <th>max</th>\n",
       "      <td>113552</td>\n",
       "      <td>2298.5</td>\n",
       "      <td>23</td>\n",
       "      <td>59</td>\n",
       "      <td>50</td>\n",
       "    </tr>\n",
       "  </tbody>\n",
       "</table>\n",
       "</div>"
      ],
      "text/plain": [
       "                CustAccountBalance TransactionAmount (INR) Hour Minute Age\n",
       "Q1:25th                    4181.37                     146    5     14  33\n",
       "Q2:50th                    14842.5                     398   10     29  37\n",
       "Q3:75th                    47929.8                    1007   15     44  41\n",
       "Q4:100th               2.79796e+07             1.56003e+06   23     59  50\n",
       "IQR                        43748.4                     861   10     30   8\n",
       "1.5rule                    65622.6                  1291.5   15     45  12\n",
       "lesser_outlier            -61441.2                 -1145.5  -10    -31  21\n",
       "greater_outlier             113552                  2298.5   30     89  53\n",
       "min                              0                       0    0      0  21\n",
       "max                         113552                  2298.5   23     59  50"
      ]
     },
     "execution_count": 14,
     "metadata": {},
     "output_type": "execute_result"
    }
   ],
   "source": [
    "descriptive_analysis_table"
   ]
  },
  {
   "cell_type": "markdown",
   "id": "0c1f37ae",
   "metadata": {},
   "source": [
    "### Probability Density Function (PDF)\n"
   ]
  },
  {
   "cell_type": "code",
   "execution_count": 15,
   "id": "5a6ca96b",
   "metadata": {},
   "outputs": [],
   "source": [
    "import seaborn as sns"
   ]
  },
  {
   "cell_type": "code",
   "execution_count": 16,
   "id": "8bc50bd1",
   "metadata": {},
   "outputs": [],
   "source": [
    "def get_pdf_probability(preprocessed_dataset,startrange,endrange):\n",
    "    from matplotlib import pyplot\n",
    "    from scipy.stats import norm\n",
    "    import seaborn as sns\n",
    "    ax = sns.distplot(preprocessed_dataset,kde=True,kde_kws={'color':'blue'},color='Green')\n",
    "    pyplot.axvline(startrange,color='Red')\n",
    "    pyplot.axvline(endrange,color='Red')\n",
    "    # generate a sample\n",
    "    sample = preprocessed_dataset\n",
    "    # calculate parameters\n",
    "    sample_mean =sample.mean()\n",
    "    sample_std = sample.std()\n",
    "    print('Mean=%.3f, Standard Deviation=%.3f' % (sample_mean, sample_std))\n",
    "    # define the distribution\n",
    "    dist = norm(sample_mean, sample_std)\n",
    "    \n",
    "    # sample probabilities for a range of outcomes\n",
    "    values = [value for value in range(startrange, endrange)]\n",
    "    probabilities = [dist.pdf(value) for value in values]    \n",
    "    prob=sum(probabilities)\n",
    "    print(\"The area between range({},{}):{}\".format(startrange,endrange,sum(probabilities)))\n",
    "    return prob"
   ]
  },
  {
   "cell_type": "code",
   "execution_count": 17,
   "id": "b5d9db16",
   "metadata": {},
   "outputs": [
    {
     "name": "stderr",
     "output_type": "stream",
     "text": [
      "C:\\Anaconda3\\envs\\aiml\\lib\\site-packages\\ipykernel_launcher.py:5: UserWarning: \n",
      "\n",
      "`distplot` is a deprecated function and will be removed in seaborn v0.14.0.\n",
      "\n",
      "Please adapt your code to use either `displot` (a figure-level function with\n",
      "similar flexibility) or `histplot` (an axes-level function for histograms).\n",
      "\n",
      "For a guide to updating your code to use the new functions, please see\n",
      "https://gist.github.com/mwaskom/de44147ed2974457ad6372750bbe5751\n",
      "\n",
      "  \"\"\"\n"
     ]
    },
    {
     "name": "stdout",
     "output_type": "stream",
     "text": [
      "Mean=1290.270, Standard Deviation=5663.941\n",
      "The area between range(1000,50000):0.5204715180919586\n"
     ]
    },
    {
     "data": {
      "text/plain": [
       "0.5204715180919586"
      ]
     },
     "execution_count": 17,
     "metadata": {},
     "output_type": "execute_result"
    },
    {
     "data": {
      "image/png": "[encoded data removed]",
      "text/plain": [
       "<Figure size 640x480 with 1 Axes>"
      ]
     },
     "metadata": {},
     "output_type": "display_data"
    }
   ],
   "source": [
    "get_pdf_probability(preprocessed_dataset[\"TransactionAmount (INR)\"],1000,50000)"
   ]
  },
  {
   "cell_type": "markdown",
   "id": "2da66fb9",
   "metadata": {},
   "source": [
    "### Cumulative Distribution Function (CDF)"
   ]
  },
  {
   "cell_type": "code",
   "execution_count": 24,
   "id": "6508afc7",
   "metadata": {},
   "outputs": [
    {
     "name": "stdout",
     "output_type": "stream",
     "text": [
      "Requirement already satisfied: statsmodels in c:\\anaconda3\\envs\\aiml\\lib\\site-packages (0.13.5)\n",
      "Requirement already satisfied: numpy>=1.17 in c:\\anaconda3\\envs\\aiml\\lib\\site-packages (from statsmodels) (1.17.4)\n",
      "Requirement already satisfied: patsy>=0.5.2 in c:\\anaconda3\\envs\\aiml\\lib\\site-packages (from statsmodels) (1.0.1)\n",
      "Requirement already satisfied: pandas>=0.25 in c:\\anaconda3\\envs\\aiml\\lib\\site-packages (from statsmodels) (0.25.3)\n",
      "Requirement already satisfied: scipy>=1.3 in c:\\anaconda3\\envs\\aiml\\lib\\site-packages (from statsmodels) (1.7.3)\n",
      "Requirement already satisfied: packaging>=21.3 in c:\\anaconda3\\envs\\aiml\\lib\\site-packages (from statsmodels) (22.0)\n",
      "Requirement already satisfied: pytz>=2017.2 in c:\\anaconda3\\envs\\aiml\\lib\\site-packages (from pandas>=0.25->statsmodels) (2025.2)\n",
      "Requirement already satisfied: python-dateutil>=2.6.1 in c:\\anaconda3\\envs\\aiml\\lib\\site-packages (from pandas>=0.25->statsmodels) (2.9.0.post0)\n",
      "Requirement already satisfied: six>=1.5 in c:\\anaconda3\\envs\\aiml\\lib\\site-packages (from python-dateutil>=2.6.1->pandas>=0.25->statsmodels) (1.17.0)\n"
     ]
    },
    {
     "data": {
      "text/plain": [
       "0.7489495415677448"
      ]
     },
     "execution_count": 24,
     "metadata": {},
     "output_type": "execute_result"
    }
   ],
   "source": [
    "!pip install statsmodels\n",
    "from statsmodels.distributions.empirical_distribution import ECDF\n",
    "ecdf = ECDF(preprocessed_dataset['TransactionAmount (INR)'])\n",
    "ecdf(1000)"
   ]
  },
  {
   "cell_type": "markdown",
   "id": "774d6d93",
   "metadata": {},
   "source": [
    "### Standard Normal Distribution & Z-Score"
   ]
  },
  {
   "cell_type": "code",
   "execution_count": 25,
   "id": "04ca05e6",
   "metadata": {},
   "outputs": [],
   "source": [
    "def stdNBgraph(dataset):\n",
    "        # Coverted to standard Normal Distribution\n",
    "    import seaborn as sns\n",
    "    mean=preprocessed_dataset.mean()\n",
    "    std=preprocessed_dataset.std()\n",
    "\n",
    "    values=[i for i in preprocessed_dataset]\n",
    "\n",
    "    z_score=[((j-mean)/std) for j in values]\n",
    "\n",
    "    sns.distplot(z_score,kde=True)\n",
    "\n",
    "    sum(z_score)/len(z_score)\n",
    "    #z_score.std()\n"
   ]
  },
  {
   "cell_type": "code",
   "execution_count": null,
   "id": "22cd0d03",
   "metadata": {},
   "outputs": [],
   "source": [
    "stdNBgraph(preprocessed_dataset[\"TransactionAmount (INR)\"])"
   ]
  },
  {
   "cell_type": "markdown",
   "id": "c2da5dd1",
   "metadata": {},
   "source": [
    "### Frequencey"
   ]
  },
  {
   "cell_type": "code",
   "execution_count": 18,
   "id": "7d214e54",
   "metadata": {},
   "outputs": [],
   "source": [
    "frequency_table=pd.DataFrame()"
   ]
  },
  {
   "cell_type": "code",
   "execution_count": 21,
   "id": "f17da150",
   "metadata": {},
   "outputs": [],
   "source": [
    "def freq_table(preprocessed_dataset,columnName):\n",
    "    frequency_table=pd.DataFrame(columns=[\"Unique_Values\",\"Frequency\",\"Relative_Frequency\",\"Cumulative_Frequency\"])\n",
    "    unique_count=preprocessed_dataset[columnName].nunique()\n",
    "    frequency_table[\"Unique_Values\"]=preprocessed_dataset[columnName].value_counts().index\n",
    "    frequency_table[\"Frequency\"]=preprocessed_dataset[columnName].value_counts().values\n",
    "    frequency_table[\"Relative_Frequency\"]=frequency_table[\"Frequency\"]/unique_count\n",
    "    frequency_table[\"Cumulative_Frequency\"]=preprocessed_dataset[columnName].cumsum()\n",
    "    return frequency_table"
   ]
  },
  {
   "cell_type": "code",
   "execution_count": 22,
   "id": "8d01a962",
   "metadata": {},
   "outputs": [
    {
     "data": {
      "text/html": [
       "<div>\n",
       "<style scoped>\n",
       "    .dataframe tbody tr th:only-of-type {\n",
       "        vertical-align: middle;\n",
       "    }\n",
       "\n",
       "    .dataframe tbody tr th {\n",
       "        vertical-align: top;\n",
       "    }\n",
       "\n",
       "    .dataframe thead th {\n",
       "        text-align: right;\n",
       "    }\n",
       "</style>\n",
       "<table border=\"1\" class=\"dataframe\">\n",
       "  <thead>\n",
       "    <tr style=\"text-align: right;\">\n",
       "      <th></th>\n",
       "      <th>Unique_Values</th>\n",
       "      <th>Frequency</th>\n",
       "      <th>Relative_Frequency</th>\n",
       "      <th>Cumulative_Frequency</th>\n",
       "    </tr>\n",
       "  </thead>\n",
       "  <tbody>\n",
       "    <tr>\n",
       "      <th>0</th>\n",
       "      <td>115537.260095</td>\n",
       "      <td>1568</td>\n",
       "      <td>0.013232</td>\n",
       "      <td>1.781905e+04</td>\n",
       "    </tr>\n",
       "    <tr>\n",
       "      <th>1</th>\n",
       "      <td>0.000000</td>\n",
       "      <td>1122</td>\n",
       "      <td>0.009468</td>\n",
       "      <td>3.569349e+04</td>\n",
       "    </tr>\n",
       "    <tr>\n",
       "      <th>2</th>\n",
       "      <td>45856.240000</td>\n",
       "      <td>393</td>\n",
       "      <td>0.003316</td>\n",
       "      <td>4.240792e+04</td>\n",
       "    </tr>\n",
       "    <tr>\n",
       "      <th>3</th>\n",
       "      <td>10238.630000</td>\n",
       "      <td>354</td>\n",
       "      <td>0.002987</td>\n",
       "      <td>4.338138e+04</td>\n",
       "    </tr>\n",
       "    <tr>\n",
       "      <th>4</th>\n",
       "      <td>25256.280000</td>\n",
       "      <td>262</td>\n",
       "      <td>0.002211</td>\n",
       "      <td>1.384569e+05</td>\n",
       "    </tr>\n",
       "    <tr>\n",
       "      <th>...</th>\n",
       "      <td>...</td>\n",
       "      <td>...</td>\n",
       "      <td>...</td>\n",
       "      <td>...</td>\n",
       "    </tr>\n",
       "    <tr>\n",
       "      <th>118495</th>\n",
       "      <td>29305.100000</td>\n",
       "      <td>1</td>\n",
       "      <td>0.000008</td>\n",
       "      <td>9.150146e+09</td>\n",
       "    </tr>\n",
       "    <tr>\n",
       "      <th>118496</th>\n",
       "      <td>2456.190000</td>\n",
       "      <td>1</td>\n",
       "      <td>0.000008</td>\n",
       "      <td>9.150252e+09</td>\n",
       "    </tr>\n",
       "    <tr>\n",
       "      <th>118497</th>\n",
       "      <td>23350.160000</td>\n",
       "      <td>1</td>\n",
       "      <td>0.000008</td>\n",
       "      <td>9.150326e+09</td>\n",
       "    </tr>\n",
       "    <tr>\n",
       "      <th>118498</th>\n",
       "      <td>863.250000</td>\n",
       "      <td>1</td>\n",
       "      <td>0.000008</td>\n",
       "      <td>9.150346e+09</td>\n",
       "    </tr>\n",
       "    <tr>\n",
       "      <th>118499</th>\n",
       "      <td>51800.630000</td>\n",
       "      <td>1</td>\n",
       "      <td>0.000008</td>\n",
       "      <td>9.150346e+09</td>\n",
       "    </tr>\n",
       "  </tbody>\n",
       "</table>\n",
       "<p>118500 rows × 4 columns</p>\n",
       "</div>"
      ],
      "text/plain": [
       "        Unique_Values  Frequency  Relative_Frequency  Cumulative_Frequency\n",
       "0       115537.260095       1568            0.013232          1.781905e+04\n",
       "1            0.000000       1122            0.009468          3.569349e+04\n",
       "2        45856.240000        393            0.003316          4.240792e+04\n",
       "3        10238.630000        354            0.002987          4.338138e+04\n",
       "4        25256.280000        262            0.002211          1.384569e+05\n",
       "...               ...        ...                 ...                   ...\n",
       "118495   29305.100000          1            0.000008          9.150146e+09\n",
       "118496    2456.190000          1            0.000008          9.150252e+09\n",
       "118497   23350.160000          1            0.000008          9.150326e+09\n",
       "118498     863.250000          1            0.000008          9.150346e+09\n",
       "118499   51800.630000          1            0.000008          9.150346e+09\n",
       "\n",
       "[118500 rows x 4 columns]"
      ]
     },
     "execution_count": 22,
     "metadata": {},
     "output_type": "execute_result"
    }
   ],
   "source": [
    "freq_table(preprocessed_dataset,\"CustAccountBalance\")"
   ]
  },
  {
   "cell_type": "code",
   "execution_count": null,
   "id": "db3a1fa0",
   "metadata": {},
   "outputs": [],
   "source": []
  }
 ],
 "metadata": {
  "kernelspec": {
   "display_name": "Python 3 (ipykernel)",
   "language": "python",
   "name": "python3"
  },
  "language_info": {
   "codemirror_mode": {
    "name": "ipython",
    "version": 3
   },
   "file_extension": ".py",
   "mimetype": "text/x-python",
   "name": "python",
   "nbconvert_exporter": "python",
   "pygments_lexer": "ipython3",
   "version": "3.7.1"
  }
 },
 "nbformat": 4,
 "nbformat_minor": 5
}
