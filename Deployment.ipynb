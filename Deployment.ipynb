{
 "cells": [
  {
   "cell_type": "code",
   "execution_count": 19,
   "id": "2a4d2c04",
   "metadata": {},
   "outputs": [
    {
     "name": "stdout",
     "output_type": "stream",
     "text": [
      "\n",
      "🔍 Predicted Cluster: 0\n",
      "\n"
     ]
    }
   ],
   "source": [
    "import pickle\n",
    "import pandas as pd\n",
    "from datetime import datetime\n",
    "import os\n",
    "\n",
    "# Define the correct path where the model and scaler are saved\n",
    "model_directory = r'../4.Feature Selection and Model creation'\n",
    "\n",
    "# Load model and scaler\n",
    "with open(f'{model_directory}/kmeans_model.pkl', 'rb') as model_file:\n",
    "    kmeans = pickle.load(model_file)\n",
    "\n",
    "with open(f'{model_directory}/scaler.pkl', 'rb') as scaler_file:\n",
    "    scaler = pickle.load(scaler_file)\n",
    "\n",
    "# --------------------------------------\n",
    "# Step 1: Define user input\n",
    "# --------------------------------------\n",
    "user_input = {\n",
    "    'TransactionAmount (INR)': 5000,\n",
    "    'TransactionTime': '1994-10-01 15:45:00',\n",
    "    'CustAccountBalance': 100000,\n",
    "    'CustGender': 'Male',\n",
    "    'CustLocation': 'Mumbai',\n",
    "    'CustomerDOB': '1985-07-15',\n",
    "    'TransactionDate': '2025-07-20',\n",
    "}\n",
    "\n",
    "# --------------------------------------\n",
    "# Step 2: Preprocess user input\n",
    "# --------------------------------------\n",
    "user_input['TransactionTime'] = pd.to_datetime(user_input['TransactionTime'])\n",
    "user_input['Hour'] = user_input['TransactionTime'].hour\n",
    "user_input['Minute'] = user_input['TransactionTime'].minute\n",
    "\n",
    "def map_time_period(hour):\n",
    "    if 5 <= hour < 12:\n",
    "        return 'Morning'\n",
    "    elif 12 <= hour < 17:\n",
    "        return 'Afternoon'\n",
    "    elif 17 <= hour < 21:\n",
    "        return 'Evening'\n",
    "    else:\n",
    "        return 'Night'\n",
    "\n",
    "user_input['TimePeriod'] = map_time_period(user_input['Hour'])\n",
    "user_input['HourMinute'] = user_input['TransactionTime'].strftime('%H:%M')\n",
    "user_input['CustomerDOB'] = pd.to_datetime(user_input['CustomerDOB'])\n",
    "today = pd.Timestamp.today()\n",
    "user_input['Age'] = (today - user_input['CustomerDOB']).days // 365\n",
    "\n",
    "user_df = pd.DataFrame([user_input])\n",
    "\n",
    "# Select same features used in training\n",
    "features = ['TransactionAmount (INR)', 'CustAccountBalance', 'Age', 'Hour', 'Minute']\n",
    "user_input_scaled = scaler.transform(user_df[features])\n",
    "\n",
    "# --------------------------------------\n",
    "# Step 3: Predict user cluster\n",
    "# --------------------------------------\n",
    "predicted_cluster = kmeans.predict(user_input_scaled)[0]\n",
    "print(f\"\\n🔍 Predicted Cluster: {predicted_cluster}\\n\")\n",
    "\n",
    "# --------------------------------------\n",
    "\n"
   ]
  },
  {
   "cell_type": "code",
   "execution_count": null,
   "id": "885b3362",
   "metadata": {},
   "outputs": [],
   "source": []
  }
 ],
 "metadata": {
  "kernelspec": {
   "display_name": "Python 3 (ipykernel)",
   "language": "python",
   "name": "python3"
  },
  "language_info": {
   "codemirror_mode": {
    "name": "ipython",
    "version": 3
   },
   "file_extension": ".py",
   "mimetype": "text/x-python",
   "name": "python",
   "nbconvert_exporter": "python",
   "pygments_lexer": "ipython3",
   "version": "3.7.1"
  }
 },
 "nbformat": 4,
 "nbformat_minor": 5
}
